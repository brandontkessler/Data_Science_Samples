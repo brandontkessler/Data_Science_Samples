{
 "cells": [
  {
   "cell_type": "code",
   "execution_count": 265,
   "metadata": {},
   "outputs": [],
   "source": [
    "import pandas as pd\n",
    "import numpy as np\n",
    "from collections import Counter\n",
    "from sklearn import linear_model as lm\n",
    "import statsmodels.api as sm\n",
    "\n",
    "import seaborn as sns\n",
    "import matplotlib.pyplot as plt\n",
    "\n",
    "%matplotlib inline"
   ]
  },
  {
   "cell_type": "code",
   "execution_count": 218,
   "metadata": {},
   "outputs": [],
   "source": [
    "path = 'data/conjoint_survey_results.csv'"
   ]
  },
  {
   "cell_type": "code",
   "execution_count": 219,
   "metadata": {},
   "outputs": [],
   "source": [
    "data = pd.read_csv(path)"
   ]
  },
  {
   "cell_type": "code",
   "execution_count": 220,
   "metadata": {},
   "outputs": [
    {
     "data": {
      "text/html": [
       "<div>\n",
       "<style scoped>\n",
       "    .dataframe tbody tr th:only-of-type {\n",
       "        vertical-align: middle;\n",
       "    }\n",
       "\n",
       "    .dataframe tbody tr th {\n",
       "        vertical-align: top;\n",
       "    }\n",
       "\n",
       "    .dataframe thead th {\n",
       "        text-align: right;\n",
       "    }\n",
       "</style>\n",
       "<table border=\"1\" class=\"dataframe\">\n",
       "  <thead>\n",
       "    <tr style=\"text-align: right;\">\n",
       "      <th></th>\n",
       "      <th>Product</th>\n",
       "      <th>Total</th>\n",
       "    </tr>\n",
       "  </thead>\n",
       "  <tbody>\n",
       "    <tr>\n",
       "      <th>0</th>\n",
       "      <td>Balcony Level&lt;br /&gt;\\nBack Half&lt;br /&gt;\\nNo IMAG&lt;...</td>\n",
       "      <td>2</td>\n",
       "    </tr>\n",
       "    <tr>\n",
       "      <th>1</th>\n",
       "      <td>Middle Level&lt;br /&gt;\\nBack Half&lt;br /&gt;\\nIMAG&lt;br /...</td>\n",
       "      <td>23</td>\n",
       "    </tr>\n",
       "    <tr>\n",
       "      <th>2</th>\n",
       "      <td>Middle Level&lt;br /&gt;\\nBack Half&lt;br /&gt;\\nNo IMAG&lt;b...</td>\n",
       "      <td>4</td>\n",
       "    </tr>\n",
       "    <tr>\n",
       "      <th>3</th>\n",
       "      <td>Middle Level&lt;br /&gt;\\nFront Half&lt;br /&gt;\\nNo IMAG&lt;...</td>\n",
       "      <td>7</td>\n",
       "    </tr>\n",
       "    <tr>\n",
       "      <th>4</th>\n",
       "      <td>Balcony Level&lt;br /&gt;\\nBack Half&lt;br /&gt;\\nNo IMAG&lt;...</td>\n",
       "      <td>2</td>\n",
       "    </tr>\n",
       "  </tbody>\n",
       "</table>\n",
       "</div>"
      ],
      "text/plain": [
       "                                             Product  Total\n",
       "0  Balcony Level<br />\\nBack Half<br />\\nNo IMAG<...      2\n",
       "1  Middle Level<br />\\nBack Half<br />\\nIMAG<br /...     23\n",
       "2  Middle Level<br />\\nBack Half<br />\\nNo IMAG<b...      4\n",
       "3  Middle Level<br />\\nFront Half<br />\\nNo IMAG<...      7\n",
       "4  Balcony Level<br />\\nBack Half<br />\\nNo IMAG<...      2"
      ]
     },
     "execution_count": 220,
     "metadata": {},
     "output_type": "execute_result"
    }
   ],
   "source": [
    "data.head()"
   ]
  },
  {
   "cell_type": "markdown",
   "metadata": {},
   "source": [
    "### Get all unique attributes\n",
    "\n",
    "We will use these to set the column headers for our dataframe along with a \"score\" header. The score header will be set to the Total line in the dataframe above (\"data\"). "
   ]
  },
  {
   "cell_type": "code",
   "execution_count": 221,
   "metadata": {},
   "outputs": [],
   "source": [
    "# Getting all unique attributes\n",
    "all_attributes = set()\n",
    "for product in data['Product']:\n",
    "    for attribute in product.split(\"<br />\\n\"):\n",
    "        all_attributes.add(attribute)"
   ]
  },
  {
   "cell_type": "code",
   "execution_count": 222,
   "metadata": {},
   "outputs": [
    {
     "data": {
      "text/plain": [
       "{'$100',\n",
       " '$25',\n",
       " '$50',\n",
       " '$75',\n",
       " '1 hour(s)',\n",
       " '2 hour(s)',\n",
       " 'Back Half',\n",
       " 'Balcony Level',\n",
       " 'Floor Level',\n",
       " 'Front Half',\n",
       " 'IMAG',\n",
       " 'Middle Level',\n",
       " 'No IMAG',\n",
       " 'Tier 1 Composer',\n",
       " 'Tier 2 Composer',\n",
       " 'Tier 3 Composer',\n",
       " 'score'}"
      ]
     },
     "execution_count": 222,
     "metadata": {},
     "output_type": "execute_result"
    }
   ],
   "source": [
    "all_attributes.add('score')\n",
    "all_attributes"
   ]
  },
  {
   "cell_type": "markdown",
   "metadata": {},
   "source": [
    "### Initialize the DataFrame"
   ]
  },
  {
   "cell_type": "code",
   "execution_count": 256,
   "metadata": {},
   "outputs": [],
   "source": [
    "# Create a dataframe with the attributes as the column headers\n",
    "conjoint_df = pd.DataFrame(columns=all_attributes)"
   ]
  },
  {
   "cell_type": "markdown",
   "metadata": {},
   "source": [
    "#### Reorder the column headers"
   ]
  },
  {
   "cell_type": "code",
   "execution_count": 257,
   "metadata": {},
   "outputs": [],
   "source": [
    "col_order = ['score', '$25', '$50', '$75', '$100', 'IMAG', 'No IMAG', \n",
    "             '1 hour(s)', '2 hour(s)', 'Back Half', 'Front Half', \n",
    "             'Floor Level', 'Middle Level', 'Balcony Level', \n",
    "             'Tier 1 Composer', 'Tier 2 Composer', 'Tier 3 Composer']\n",
    "\n",
    "# Reorder columns:\n",
    "conjoint_df = conjoint_df[col_order]"
   ]
  },
  {
   "cell_type": "code",
   "execution_count": 258,
   "metadata": {},
   "outputs": [
    {
     "data": {
      "text/html": [
       "<div>\n",
       "<style scoped>\n",
       "    .dataframe tbody tr th:only-of-type {\n",
       "        vertical-align: middle;\n",
       "    }\n",
       "\n",
       "    .dataframe tbody tr th {\n",
       "        vertical-align: top;\n",
       "    }\n",
       "\n",
       "    .dataframe thead th {\n",
       "        text-align: right;\n",
       "    }\n",
       "</style>\n",
       "<table border=\"1\" class=\"dataframe\">\n",
       "  <thead>\n",
       "    <tr style=\"text-align: right;\">\n",
       "      <th></th>\n",
       "      <th>score</th>\n",
       "      <th>$25</th>\n",
       "      <th>$50</th>\n",
       "      <th>$75</th>\n",
       "      <th>$100</th>\n",
       "      <th>IMAG</th>\n",
       "      <th>No IMAG</th>\n",
       "      <th>1 hour(s)</th>\n",
       "      <th>2 hour(s)</th>\n",
       "      <th>Back Half</th>\n",
       "      <th>Front Half</th>\n",
       "      <th>Floor Level</th>\n",
       "      <th>Middle Level</th>\n",
       "      <th>Balcony Level</th>\n",
       "      <th>Tier 1 Composer</th>\n",
       "      <th>Tier 2 Composer</th>\n",
       "      <th>Tier 3 Composer</th>\n",
       "    </tr>\n",
       "  </thead>\n",
       "  <tbody>\n",
       "  </tbody>\n",
       "</table>\n",
       "</div>"
      ],
      "text/plain": [
       "Empty DataFrame\n",
       "Columns: [score, $25, $50, $75, $100, IMAG, No IMAG, 1 hour(s), 2 hour(s), Back Half, Front Half, Floor Level, Middle Level, Balcony Level, Tier 1 Composer, Tier 2 Composer, Tier 3 Composer]\n",
       "Index: []"
      ]
     },
     "execution_count": 258,
     "metadata": {},
     "output_type": "execute_result"
    }
   ],
   "source": [
    "conjoint_df"
   ]
  },
  {
   "cell_type": "markdown",
   "metadata": {},
   "source": [
    "### Append each row as appropriate to the initialized dataframe\n",
    "\n",
    "We will loop through each row in the original dataframe. Within each loop, we create a new dataframe made up of one row of 17 values all set to 0 with the column headers equal to the column headers set above.\n",
    "\n",
    "Then we will split the product names for that particular row by \"<br />\\n\" as that is the syntax that the data was exported by. This will result in a list of products for that particular selection, like so:\n",
    "\n",
    "['$25', 'IMAG', '2 hour(s)', 'Front Half', 'Middle Level', 'Tier 1 Composer']\n",
    "\n",
    "Next, we filter through each value in that list and set it's value in the newly initialized dataframe as 1 instead of 0. Finally, we set the score in that dataframe equal to the total value provided by that row.\n",
    "\n",
    "Finally, we append this new dataframe to originally initialized dataframe called \"conjoint_df\""
   ]
  },
  {
   "cell_type": "code",
   "execution_count": 259,
   "metadata": {},
   "outputs": [],
   "source": [
    "for row in np.array(data):\n",
    "    data_array = pd.DataFrame([[0] * 17], columns=col_order)\n",
    "    products = row[0].split(\"<br />\\n\")\n",
    "    for product in products:\n",
    "        data_array[product] = 1\n",
    "    data_array['score'] = row[1]\n",
    "    conjoint_df = conjoint_df.append(data_array)"
   ]
  },
  {
   "cell_type": "code",
   "execution_count": 260,
   "metadata": {},
   "outputs": [],
   "source": [
    "conjoint_df.reset_index(drop=True, inplace=True)"
   ]
  },
  {
   "cell_type": "code",
   "execution_count": 261,
   "metadata": {},
   "outputs": [
    {
     "data": {
      "text/html": [
       "<div>\n",
       "<style scoped>\n",
       "    .dataframe tbody tr th:only-of-type {\n",
       "        vertical-align: middle;\n",
       "    }\n",
       "\n",
       "    .dataframe tbody tr th {\n",
       "        vertical-align: top;\n",
       "    }\n",
       "\n",
       "    .dataframe thead th {\n",
       "        text-align: right;\n",
       "    }\n",
       "</style>\n",
       "<table border=\"1\" class=\"dataframe\">\n",
       "  <thead>\n",
       "    <tr style=\"text-align: right;\">\n",
       "      <th></th>\n",
       "      <th>score</th>\n",
       "      <th>$25</th>\n",
       "      <th>$50</th>\n",
       "      <th>$75</th>\n",
       "      <th>$100</th>\n",
       "      <th>IMAG</th>\n",
       "      <th>No IMAG</th>\n",
       "      <th>1 hour(s)</th>\n",
       "      <th>2 hour(s)</th>\n",
       "      <th>Back Half</th>\n",
       "      <th>Front Half</th>\n",
       "      <th>Floor Level</th>\n",
       "      <th>Middle Level</th>\n",
       "      <th>Balcony Level</th>\n",
       "      <th>Tier 1 Composer</th>\n",
       "      <th>Tier 2 Composer</th>\n",
       "      <th>Tier 3 Composer</th>\n",
       "    </tr>\n",
       "  </thead>\n",
       "  <tbody>\n",
       "    <tr>\n",
       "      <th>0</th>\n",
       "      <td>2</td>\n",
       "      <td>0</td>\n",
       "      <td>0</td>\n",
       "      <td>0</td>\n",
       "      <td>1</td>\n",
       "      <td>0</td>\n",
       "      <td>1</td>\n",
       "      <td>1</td>\n",
       "      <td>0</td>\n",
       "      <td>1</td>\n",
       "      <td>0</td>\n",
       "      <td>0</td>\n",
       "      <td>0</td>\n",
       "      <td>1</td>\n",
       "      <td>0</td>\n",
       "      <td>1</td>\n",
       "      <td>0</td>\n",
       "    </tr>\n",
       "    <tr>\n",
       "      <th>1</th>\n",
       "      <td>23</td>\n",
       "      <td>1</td>\n",
       "      <td>0</td>\n",
       "      <td>0</td>\n",
       "      <td>0</td>\n",
       "      <td>1</td>\n",
       "      <td>0</td>\n",
       "      <td>0</td>\n",
       "      <td>1</td>\n",
       "      <td>1</td>\n",
       "      <td>0</td>\n",
       "      <td>0</td>\n",
       "      <td>1</td>\n",
       "      <td>0</td>\n",
       "      <td>0</td>\n",
       "      <td>1</td>\n",
       "      <td>0</td>\n",
       "    </tr>\n",
       "    <tr>\n",
       "      <th>2</th>\n",
       "      <td>4</td>\n",
       "      <td>0</td>\n",
       "      <td>1</td>\n",
       "      <td>0</td>\n",
       "      <td>0</td>\n",
       "      <td>0</td>\n",
       "      <td>1</td>\n",
       "      <td>1</td>\n",
       "      <td>0</td>\n",
       "      <td>1</td>\n",
       "      <td>0</td>\n",
       "      <td>0</td>\n",
       "      <td>1</td>\n",
       "      <td>0</td>\n",
       "      <td>0</td>\n",
       "      <td>1</td>\n",
       "      <td>0</td>\n",
       "    </tr>\n",
       "    <tr>\n",
       "      <th>3</th>\n",
       "      <td>7</td>\n",
       "      <td>0</td>\n",
       "      <td>0</td>\n",
       "      <td>1</td>\n",
       "      <td>0</td>\n",
       "      <td>0</td>\n",
       "      <td>1</td>\n",
       "      <td>0</td>\n",
       "      <td>1</td>\n",
       "      <td>0</td>\n",
       "      <td>1</td>\n",
       "      <td>0</td>\n",
       "      <td>1</td>\n",
       "      <td>0</td>\n",
       "      <td>1</td>\n",
       "      <td>0</td>\n",
       "      <td>0</td>\n",
       "    </tr>\n",
       "    <tr>\n",
       "      <th>4</th>\n",
       "      <td>2</td>\n",
       "      <td>0</td>\n",
       "      <td>0</td>\n",
       "      <td>0</td>\n",
       "      <td>1</td>\n",
       "      <td>0</td>\n",
       "      <td>1</td>\n",
       "      <td>0</td>\n",
       "      <td>1</td>\n",
       "      <td>1</td>\n",
       "      <td>0</td>\n",
       "      <td>0</td>\n",
       "      <td>0</td>\n",
       "      <td>1</td>\n",
       "      <td>0</td>\n",
       "      <td>1</td>\n",
       "      <td>0</td>\n",
       "    </tr>\n",
       "  </tbody>\n",
       "</table>\n",
       "</div>"
      ],
      "text/plain": [
       "  score $25 $50 $75 $100 IMAG No IMAG 1 hour(s) 2 hour(s) Back Half  \\\n",
       "0     2   0   0   0    1    0       1         1         0         1   \n",
       "1    23   1   0   0    0    1       0         0         1         1   \n",
       "2     4   0   1   0    0    0       1         1         0         1   \n",
       "3     7   0   0   1    0    0       1         0         1         0   \n",
       "4     2   0   0   0    1    0       1         0         1         1   \n",
       "\n",
       "  Front Half Floor Level Middle Level Balcony Level Tier 1 Composer  \\\n",
       "0          0           0            0             1               0   \n",
       "1          0           0            1             0               0   \n",
       "2          0           0            1             0               0   \n",
       "3          1           0            1             0               1   \n",
       "4          0           0            0             1               0   \n",
       "\n",
       "  Tier 2 Composer Tier 3 Composer  \n",
       "0               1               0  \n",
       "1               1               0  \n",
       "2               1               0  \n",
       "3               0               0  \n",
       "4               1               0  "
      ]
     },
     "execution_count": 261,
     "metadata": {},
     "output_type": "execute_result"
    }
   ],
   "source": [
    "conjoint_df.head()"
   ]
  },
  {
   "cell_type": "markdown",
   "metadata": {},
   "source": [
    "### Set up variables for regression"
   ]
  },
  {
   "cell_type": "code",
   "execution_count": 262,
   "metadata": {},
   "outputs": [],
   "source": [
    "# Set X equal to all vars except the 'score' column\n",
    "X = conjoint_df.loc[:, conjoint_df.columns != 'score']\n",
    "\n",
    "# Provide a constant\n",
    "# This is to ensure that y takes a non-zero value when all other\n",
    "#   explanatory variables are set to 0.\n",
    "X['const'] = 1\n",
    "\n",
    "# Set y equal to the score\n",
    "y = conjoint_df.score"
   ]
  },
  {
   "cell_type": "code",
   "execution_count": 263,
   "metadata": {},
   "outputs": [],
   "source": [
    "regression = sm.OLS(y.astype(float), X.astype(float)).fit()"
   ]
  },
  {
   "cell_type": "code",
   "execution_count": 268,
   "metadata": {},
   "outputs": [
    {
     "data": {
      "text/html": [
       "<table class=\"simpletable\">\n",
       "<caption>OLS Regression Results</caption>\n",
       "<tr>\n",
       "  <th>Dep. Variable:</th>          <td>score</td>      <th>  R-squared:         </th> <td>   0.692</td>\n",
       "</tr>\n",
       "<tr>\n",
       "  <th>Model:</th>                   <td>OLS</td>       <th>  Adj. R-squared:    </th> <td>   0.545</td>\n",
       "</tr>\n",
       "<tr>\n",
       "  <th>Method:</th>             <td>Least Squares</td>  <th>  F-statistic:       </th> <td>   4.714</td>\n",
       "</tr>\n",
       "<tr>\n",
       "  <th>Date:</th>             <td>Tue, 06 Aug 2019</td> <th>  Prob (F-statistic):</th>  <td>0.00135</td>\n",
       "</tr>\n",
       "<tr>\n",
       "  <th>Time:</th>                 <td>17:17:14</td>     <th>  Log-Likelihood:    </th> <td> -87.784</td>\n",
       "</tr>\n",
       "<tr>\n",
       "  <th>No. Observations:</th>      <td>    32</td>      <th>  AIC:               </th> <td>   197.6</td>\n",
       "</tr>\n",
       "<tr>\n",
       "  <th>Df Residuals:</th>          <td>    21</td>      <th>  BIC:               </th> <td>   213.7</td>\n",
       "</tr>\n",
       "<tr>\n",
       "  <th>Df Model:</th>              <td>    10</td>      <th>                     </th>     <td> </td>   \n",
       "</tr>\n",
       "<tr>\n",
       "  <th>Covariance Type:</th>      <td>nonrobust</td>    <th>                     </th>     <td> </td>   \n",
       "</tr>\n",
       "</table>\n",
       "<table class=\"simpletable\">\n",
       "<tr>\n",
       "         <td></td>            <th>coef</th>     <th>std err</th>      <th>t</th>      <th>P>|t|</th>  <th>[0.025</th>    <th>0.975]</th>  \n",
       "</tr>\n",
       "<tr>\n",
       "  <th>$25</th>             <td>    7.0568</td> <td>    2.007</td> <td>    3.516</td> <td> 0.002</td> <td>    2.883</td> <td>   11.231</td>\n",
       "</tr>\n",
       "<tr>\n",
       "  <th>$50</th>             <td>    2.1886</td> <td>    1.792</td> <td>    1.222</td> <td> 0.235</td> <td>   -1.537</td> <td>    5.914</td>\n",
       "</tr>\n",
       "<tr>\n",
       "  <th>$75</th>             <td>   -2.2707</td> <td>    1.474</td> <td>   -1.541</td> <td> 0.138</td> <td>   -5.336</td> <td>    0.794</td>\n",
       "</tr>\n",
       "<tr>\n",
       "  <th>$100</th>            <td>   -4.0420</td> <td>    1.464</td> <td>   -2.761</td> <td> 0.012</td> <td>   -7.086</td> <td>   -0.998</td>\n",
       "</tr>\n",
       "<tr>\n",
       "  <th>IMAG</th>            <td>    4.9347</td> <td>    1.072</td> <td>    4.604</td> <td> 0.000</td> <td>    2.706</td> <td>    7.164</td>\n",
       "</tr>\n",
       "<tr>\n",
       "  <th>No IMAG</th>         <td>   -2.0019</td> <td>    1.033</td> <td>   -1.938</td> <td> 0.066</td> <td>   -4.151</td> <td>    0.147</td>\n",
       "</tr>\n",
       "<tr>\n",
       "  <th>1 hour(s)</th>       <td>   -0.2993</td> <td>    1.008</td> <td>   -0.297</td> <td> 0.769</td> <td>   -2.396</td> <td>    1.797</td>\n",
       "</tr>\n",
       "<tr>\n",
       "  <th>2 hour(s)</th>       <td>    3.2320</td> <td>    0.993</td> <td>    3.255</td> <td> 0.004</td> <td>    1.167</td> <td>    5.297</td>\n",
       "</tr>\n",
       "<tr>\n",
       "  <th>Back Half</th>       <td>    0.9696</td> <td>    0.949</td> <td>    1.022</td> <td> 0.319</td> <td>   -1.004</td> <td>    2.943</td>\n",
       "</tr>\n",
       "<tr>\n",
       "  <th>Front Half</th>      <td>    1.9632</td> <td>    0.971</td> <td>    2.021</td> <td> 0.056</td> <td>   -0.057</td> <td>    3.983</td>\n",
       "</tr>\n",
       "<tr>\n",
       "  <th>Floor Level</th>     <td>    2.4095</td> <td>    1.598</td> <td>    1.508</td> <td> 0.147</td> <td>   -0.914</td> <td>    5.733</td>\n",
       "</tr>\n",
       "<tr>\n",
       "  <th>Middle Level</th>    <td>   -0.4112</td> <td>    1.211</td> <td>   -0.340</td> <td> 0.738</td> <td>   -2.929</td> <td>    2.107</td>\n",
       "</tr>\n",
       "<tr>\n",
       "  <th>Balcony Level</th>   <td>    0.9344</td> <td>    1.536</td> <td>    0.608</td> <td> 0.549</td> <td>   -2.259</td> <td>    4.128</td>\n",
       "</tr>\n",
       "<tr>\n",
       "  <th>Tier 1 Composer</th> <td>    2.3499</td> <td>    1.491</td> <td>    1.576</td> <td> 0.130</td> <td>   -0.751</td> <td>    5.451</td>\n",
       "</tr>\n",
       "<tr>\n",
       "  <th>Tier 2 Composer</th> <td>    2.5013</td> <td>    1.364</td> <td>    1.834</td> <td> 0.081</td> <td>   -0.335</td> <td>    5.338</td>\n",
       "</tr>\n",
       "<tr>\n",
       "  <th>Tier 3 Composer</th> <td>   -1.9185</td> <td>    1.301</td> <td>   -1.475</td> <td> 0.155</td> <td>   -4.624</td> <td>    0.787</td>\n",
       "</tr>\n",
       "<tr>\n",
       "  <th>const</th>           <td>    2.9327</td> <td>    0.257</td> <td>   11.414</td> <td> 0.000</td> <td>    2.398</td> <td>    3.467</td>\n",
       "</tr>\n",
       "</table>\n",
       "<table class=\"simpletable\">\n",
       "<tr>\n",
       "  <th>Omnibus:</th>       <td> 0.210</td> <th>  Durbin-Watson:     </th> <td>   2.043</td>\n",
       "</tr>\n",
       "<tr>\n",
       "  <th>Prob(Omnibus):</th> <td> 0.900</td> <th>  Jarque-Bera (JB):  </th> <td>   0.058</td>\n",
       "</tr>\n",
       "<tr>\n",
       "  <th>Skew:</th>          <td>-0.095</td> <th>  Prob(JB):          </th> <td>   0.972</td>\n",
       "</tr>\n",
       "<tr>\n",
       "  <th>Kurtosis:</th>      <td> 2.916</td> <th>  Cond. No.          </th> <td>6.27e+16</td>\n",
       "</tr>\n",
       "</table><br/><br/>Warnings:<br/>[1] Standard Errors assume that the covariance matrix of the errors is correctly specified.<br/>[2] The smallest eigenvalue is 2.8e-32. This might indicate that there are<br/>strong multicollinearity problems or that the design matrix is singular."
      ],
      "text/plain": [
       "<class 'statsmodels.iolib.summary.Summary'>\n",
       "\"\"\"\n",
       "                            OLS Regression Results                            \n",
       "==============================================================================\n",
       "Dep. Variable:                  score   R-squared:                       0.692\n",
       "Model:                            OLS   Adj. R-squared:                  0.545\n",
       "Method:                 Least Squares   F-statistic:                     4.714\n",
       "Date:                Tue, 06 Aug 2019   Prob (F-statistic):            0.00135\n",
       "Time:                        17:17:14   Log-Likelihood:                -87.784\n",
       "No. Observations:                  32   AIC:                             197.6\n",
       "Df Residuals:                      21   BIC:                             213.7\n",
       "Df Model:                          10                                         \n",
       "Covariance Type:            nonrobust                                         \n",
       "===================================================================================\n",
       "                      coef    std err          t      P>|t|      [0.025      0.975]\n",
       "-----------------------------------------------------------------------------------\n",
       "$25                 7.0568      2.007      3.516      0.002       2.883      11.231\n",
       "$50                 2.1886      1.792      1.222      0.235      -1.537       5.914\n",
       "$75                -2.2707      1.474     -1.541      0.138      -5.336       0.794\n",
       "$100               -4.0420      1.464     -2.761      0.012      -7.086      -0.998\n",
       "IMAG                4.9347      1.072      4.604      0.000       2.706       7.164\n",
       "No IMAG            -2.0019      1.033     -1.938      0.066      -4.151       0.147\n",
       "1 hour(s)          -0.2993      1.008     -0.297      0.769      -2.396       1.797\n",
       "2 hour(s)           3.2320      0.993      3.255      0.004       1.167       5.297\n",
       "Back Half           0.9696      0.949      1.022      0.319      -1.004       2.943\n",
       "Front Half          1.9632      0.971      2.021      0.056      -0.057       3.983\n",
       "Floor Level         2.4095      1.598      1.508      0.147      -0.914       5.733\n",
       "Middle Level       -0.4112      1.211     -0.340      0.738      -2.929       2.107\n",
       "Balcony Level       0.9344      1.536      0.608      0.549      -2.259       4.128\n",
       "Tier 1 Composer     2.3499      1.491      1.576      0.130      -0.751       5.451\n",
       "Tier 2 Composer     2.5013      1.364      1.834      0.081      -0.335       5.338\n",
       "Tier 3 Composer    -1.9185      1.301     -1.475      0.155      -4.624       0.787\n",
       "const               2.9327      0.257     11.414      0.000       2.398       3.467\n",
       "==============================================================================\n",
       "Omnibus:                        0.210   Durbin-Watson:                   2.043\n",
       "Prob(Omnibus):                  0.900   Jarque-Bera (JB):                0.058\n",
       "Skew:                          -0.095   Prob(JB):                        0.972\n",
       "Kurtosis:                       2.916   Cond. No.                     6.27e+16\n",
       "==============================================================================\n",
       "\n",
       "Warnings:\n",
       "[1] Standard Errors assume that the covariance matrix of the errors is correctly specified.\n",
       "[2] The smallest eigenvalue is 2.8e-32. This might indicate that there are\n",
       "strong multicollinearity problems or that the design matrix is singular.\n",
       "\"\"\""
      ]
     },
     "execution_count": 268,
     "metadata": {},
     "output_type": "execute_result"
    }
   ],
   "source": [
    "regression.summary()"
   ]
  },
  {
   "cell_type": "markdown",
   "metadata": {},
   "source": [
    "## Visualize the Results"
   ]
  },
  {
   "cell_type": "code",
   "execution_count": 318,
   "metadata": {},
   "outputs": [],
   "source": [
    "# Color formatting\n",
    "color_dict = {\n",
    "    '$25': \"green\", \n",
    "    '$50': \"green\", \n",
    "    '$75': \"green\", \n",
    "    '$100': \"green\", \n",
    "    'IMAG': \"blue\", \n",
    "    'No IMAG': \"blue\",\n",
    "    '1 hour(s)': \"red\",\n",
    "    '2 hour(s)': \"red\", \n",
    "    'Back Half': \"pink\", \n",
    "    'Front Half': \"pink\", \n",
    "    'Floor Level': \"orange\", \n",
    "    'Middle Level': \"orange\", \n",
    "    'Balcony Level': \"orange\", \n",
    "    'Tier 1 Composer': \"purple\", \n",
    "    'Tier 2 Composer': \"purple\", \n",
    "    'Tier 3 Composer': \"purple\"\n",
    "}"
   ]
  },
  {
   "cell_type": "markdown",
   "metadata": {},
   "source": [
    "#### Attribute Importance"
   ]
  },
  {
   "cell_type": "code",
   "execution_count": 313,
   "metadata": {},
   "outputs": [],
   "source": [
    "att_imp_df = pd.DataFrame(data=abs(regression.params), columns=[\"coeff\"], index=X.columns)\n",
    "att_imp_df.sort_values(by=[\"coeff\"], ascending=False, inplace=True)"
   ]
  },
  {
   "cell_type": "code",
   "execution_count": 325,
   "metadata": {},
   "outputs": [
    {
     "data": {
      "image/png": "[encoded data removed]",
      "text/plain": [
       "<Figure size 1080x360 with 1 Axes>"
      ]
     },
     "metadata": {
      "needs_background": "light"
     },
     "output_type": "display_data"
    }
   ],
   "source": [
    "# Plot setup\n",
    "plt.figure(figsize=[15,5])\n",
    "\n",
    "# Plotting data\n",
    "sns.barplot(data=att_imp_df.transpose().drop(columns=['const']))\n",
    "\n",
    "# Plotting formatting\n",
    "plt.title('Conjoint - Attribute Importance')\n",
    "plt.ylabel('Coefficients')\n",
    "plt.xticks(rotation=75)\n",
    "plt.show()"
   ]
  },
  {
   "cell_type": "markdown",
   "metadata": {},
   "source": [
    "#### Conjoint Utility Plot"
   ]
  },
  {
   "cell_type": "code",
   "execution_count": 321,
   "metadata": {},
   "outputs": [],
   "source": [
    "utility_df = pd.DataFrame(data=[regression.params], columns=X.columns)"
   ]
  },
  {
   "cell_type": "code",
   "execution_count": 328,
   "metadata": {},
   "outputs": [
    {
     "data": {
      "image/png": "[encoded data removed]",
      "text/plain": [
       "<Figure size 1080x720 with 1 Axes>"
      ]
     },
     "metadata": {
      "needs_background": "light"
     },
     "output_type": "display_data"
    }
   ],
   "source": [
    "# Plot setup\n",
    "plt.figure(figsize=[15,10])\n",
    "\n",
    "# Plotting data\n",
    "sns.barplot(data=utility_df.drop(columns=['const']),\n",
    "           orient=\"h\", palette=color_dict)\n",
    "\n",
    "# Plotting formatting\n",
    "plt.title('Conjoint - Attribute Importance')\n",
    "plt.xlabel('Coefficients')\n",
    "plt.show()"
   ]
  }
 ],
 "metadata": {
  "kernelspec": {
   "display_name": "Python 3",
   "language": "python",
   "name": "python3"
  },
  "language_info": {
   "codemirror_mode": {
    "name": "ipython",
    "version": 3
   },
   "file_extension": ".py",
   "mimetype": "text/x-python",
   "name": "python",
   "nbconvert_exporter": "python",
   "pygments_lexer": "ipython3",
   "version": "3.7.3"
  }
 },
 "nbformat": 4,
 "nbformat_minor": 2
}
